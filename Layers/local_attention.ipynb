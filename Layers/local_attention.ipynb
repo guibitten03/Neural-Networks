{
 "cells": [
  {
   "cell_type": "code",
   "execution_count": null,
   "metadata": {},
   "outputs": [],
   "source": [
    "import torch\n",
    "import torch.nn as nn\n",
    "import torch.nn.functional as F\n",
    "\n",
    "class LocalAttention(nn.Module):\n",
    "    def __init__(self, in_channels, out_channels, kernel_size=3, stride=1, padding=1):\n",
    "        super(LocalAttention, self).__init__()\n",
    "        self.conv = nn.Conv2d(in_channels, out_channels, kernel_size, stride=stride, padding=padding)\n",
    "        self.attn_conv = nn.Conv2d(out_channels, out_channels, kernel_size, stride=stride, padding=padding)\n",
    "        self.softmax = nn.Softmax(dim=2)\n",
    "    \n",
    "    def forward(self, x):\n",
    "        x = self.conv(x) # Apply a convolutional layer\n",
    "        N, C, H, W = x.shape # Get the shape of the tensor\n",
    "        \n",
    "        # Compute the local attention\n",
    "        attn = self.attn_conv(x)\n",
    "        attn = attn.reshape(N, C, -1)\n",
    "        attn = self.softmax(attn)\n",
    "        attn = attn.reshape(N, C, H, W)\n",
    "        \n",
    "        # Apply the attention\n",
    "        x = x * attn\n",
    "        return x"
   ]
  }
 ],
 "metadata": {
  "language_info": {
   "name": "python"
  },
  "orig_nbformat": 4
 },
 "nbformat": 4,
 "nbformat_minor": 2
}
