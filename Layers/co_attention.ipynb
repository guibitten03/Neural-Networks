{
 "cells": [
  {
   "cell_type": "code",
   "execution_count": null,
   "metadata": {},
   "outputs": [],
   "source": [
    "import torch\n",
    "import torch.nn as nn\n",
    "\n",
    "class CoAttentionLayer(nn.Module):\n",
    "    def __init__(self, hidden_size):\n",
    "        super(CoAttentionLayer, self).__init__()\n",
    "        self.hidden_size = hidden_size\n",
    "        self.W_b = nn.Linear(hidden_size, hidden_size)\n",
    "        self.softmax = nn.Softmax(dim=1)\n",
    "        \n",
    "    def forward(self, X1, X2):\n",
    "        # X1 é a primeira sequência de entrada de tamanho [batch_size, seq_len1, hidden_size]\n",
    "        # X2 é a segunda sequência de entrada de tamanho [batch_size, seq_len2, hidden_size]\n",
    "        \n",
    "        # aplicar a transformação W_b em X2 para obter Y de tamanho [batch_size, seq_len2, hidden_size]\n",
    "        Y = self.W_b(X2)\n",
    "        \n",
    "        # calcular a atenção entre X1 e Y\n",
    "        attention_scores = torch.bmm(X1, Y.transpose(1, 2))\n",
    "        attention_weights = self.softmax(attention_scores)\n",
    "        \n",
    "        # calcular a atenção entre Y e X1\n",
    "        Y_t = Y.transpose(1, 2)\n",
    "        co_attention_scores = torch.bmm(attention_weights, Y_t)\n",
    "        co_attention_weights = self.softmax(co_attention_scores)\n",
    "        \n",
    "        # calcular as representações atencionais finais\n",
    "        X1_t = X1.transpose(1, 2)\n",
    "        attended_X1 = torch.bmm(co_attention_weights, X1_t).transpose(1, 2)\n",
    "        attended_Y = torch.bmm(attention_weights, Y).transpose(1, 2)\n",
    "        \n",
    "        # concatenar as representações atencionais e retornar\n",
    "        concatenated = torch.cat((attended_X1, attended_Y), dim=2)\n",
    "        return concatenated\n"
   ]
  }
 ],
 "metadata": {
  "language_info": {
   "name": "python"
  },
  "orig_nbformat": 4
 },
 "nbformat": 4,
 "nbformat_minor": 2
}
