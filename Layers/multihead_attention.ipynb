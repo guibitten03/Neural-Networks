{
 "cells": [
  {
   "cell_type": "code",
   "execution_count": null,
   "metadata": {},
   "outputs": [],
   "source": [
    "import torch\n",
    "import torch.nn as nn\n",
    "\n",
    "class MultiHeadAttention(nn.Module):\n",
    "    def __init__(self, input_size, num_heads):\n",
    "        super(MultiHeadAttention, self).__init__()\n",
    "        self.num_heads = num_heads\n",
    "        self.head_size = input_size // num_heads\n",
    "        self.linear_q = nn.Linear(input_size, input_size)\n",
    "        self.linear_k = nn.Linear(input_size, input_size)\n",
    "        self.linear_v = nn.Linear(input_size, input_size)\n",
    "        self.linear_out = nn.Linear(input_size, input_size)\n",
    "        \n",
    "    def forward(self, x):\n",
    "        # Reshape input for multihead attention\n",
    "        batch_size, seq_len, input_size = x.size()\n",
    "        x = x.view(batch_size, seq_len, self.num_heads, self.head_size)\n",
    "        x = x.permute(0, 2, 1, 3).contiguous()\n",
    "        x = x.view(batch_size * self.num_heads, seq_len, self.head_size)\n",
    "\n",
    "        # Apply linear transformations\n",
    "        q = self.linear_q(x)\n",
    "        k = self.linear_k(x)\n",
    "        v = self.linear_v(x)\n",
    "\n",
    "        # Compute attention scores\n",
    "        scores = torch.bmm(q, k.transpose(1, 2)) / (self.head_size ** 0.5)\n",
    "        attn = torch.softmax(scores, dim=2)\n",
    "\n",
    "        # Apply attention weights and linear transformation\n",
    "        out = torch.bmm(attn, v)\n",
    "        out = out.view(batch_size, self.num_heads, seq_len, self.head_size)\n",
    "        out = out.permute(0, 2, 1, 3).contiguous()\n",
    "        out = out.view(batch_size, seq_len, input_size)\n",
    "        out = self.linear_out(out)\n",
    "\n",
    "        return out\n"
   ]
  }
 ],
 "metadata": {
  "language_info": {
   "name": "python"
  },
  "orig_nbformat": 4
 },
 "nbformat": 4,
 "nbformat_minor": 2
}
