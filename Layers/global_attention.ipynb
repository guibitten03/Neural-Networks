{
 "cells": [
  {
   "cell_type": "code",
   "execution_count": 1,
   "metadata": {},
   "outputs": [],
   "source": [
    "import torch\n",
    "import torch.nn as nn\n",
    "import torch.nn.functional as F"
   ]
  },
  {
   "cell_type": "code",
   "execution_count": 7,
   "metadata": {},
   "outputs": [],
   "source": [
    "class GlobalAttention(nn.Module):\n",
    "    def __init__(self, input_dim):\n",
    "        super(GlobalAttention, self).__init__()\n",
    "        \n",
    "        self.input_dim = input_dim\n",
    "        self.attention_weights = nn.Linear(input_dim, 1, bias=False)\n",
    "        \n",
    "    def forward(self, inputs):\n",
    "        batch_size, seq_len, input_dim = inputs.size()\n",
    "        attn_scores = self.attention_weights(inputs)\n",
    "        attn_scores = attn_scores.view(batch_size, seq_len)\n",
    "        attn_weights = F.softmax(attn_scores, dim=1)\n",
    "        weighted_inputs = torch.bmm(attn_weights.unsqueeze(1), inputs).squeeze(1)\n",
    "        return weighted_inputs, attn_weights"
   ]
  },
  {
   "cell_type": "code",
   "execution_count": 5,
   "metadata": {},
   "outputs": [
    {
     "name": "stderr",
     "output_type": "stream",
     "text": [
      ".vector_cache/glove.6B.zip: 862MB [08:52, 1.62MB/s]                               \n",
      "100%|█████████▉| 399999/400000 [00:11<00:00, 34819.13it/s]\n"
     ]
    }
   ],
   "source": [
    "import torchtext\n",
    "\n",
    "tokenizer = torchtext.data.utils.get_tokenizer('basic_english')\n",
    "vocab = torchtext.vocab.GloVe(name='6B', dim=100)\n",
    "\n",
    "def prepare_input(sentence):\n",
    "    tokens = tokenizer(sentence)\n",
    "    vectorized_tokens = [vocab.stoi[token] for token in tokens]\n",
    "    vectorized_tokens = torch.tensor(vectorized_tokens).unsqueeze(0)\n",
    "    return vectorized_tokens"
   ]
  },
  {
   "cell_type": "code",
   "execution_count": 8,
   "metadata": {},
   "outputs": [
    {
     "ename": "RuntimeError",
     "evalue": "mat1 and mat2 shapes cannot be multiplied (1x6 and 100x1)",
     "output_type": "error",
     "traceback": [
      "\u001b[0;31m---------------------------------------------------------------------------\u001b[0m",
      "\u001b[0;31mRuntimeError\u001b[0m                              Traceback (most recent call last)",
      "\u001b[1;32m/home/guibitten/Documents/neural_networks/Layers/global_attention.ipynb Cell 4\u001b[0m in \u001b[0;36m<cell line: 4>\u001b[0;34m()\u001b[0m\n\u001b[1;32m      <a href='vscode-notebook-cell:/home/guibitten/Documents/neural_networks/Layers/global_attention.ipynb#W4sZmlsZQ%3D%3D?line=1'>2</a>\u001b[0m sentence \u001b[39m=\u001b[39m \u001b[39m\"\u001b[39m\u001b[39mThis is a positive sentence.\u001b[39m\u001b[39m\"\u001b[39m\n\u001b[1;32m      <a href='vscode-notebook-cell:/home/guibitten/Documents/neural_networks/Layers/global_attention.ipynb#W4sZmlsZQ%3D%3D?line=2'>3</a>\u001b[0m vectorized_input \u001b[39m=\u001b[39m prepare_input(sentence)\n\u001b[0;32m----> <a href='vscode-notebook-cell:/home/guibitten/Documents/neural_networks/Layers/global_attention.ipynb#W4sZmlsZQ%3D%3D?line=3'>4</a>\u001b[0m weighted_inputs, attn_weights \u001b[39m=\u001b[39m attn_layer(vectorized_input)\n",
      "File \u001b[0;32m~/.local/lib/python3.10/site-packages/torch/nn/modules/module.py:1501\u001b[0m, in \u001b[0;36mModule._call_impl\u001b[0;34m(self, *args, **kwargs)\u001b[0m\n\u001b[1;32m   1496\u001b[0m \u001b[39m# If we don't have any hooks, we want to skip the rest of the logic in\u001b[39;00m\n\u001b[1;32m   1497\u001b[0m \u001b[39m# this function, and just call forward.\u001b[39;00m\n\u001b[1;32m   1498\u001b[0m \u001b[39mif\u001b[39;00m \u001b[39mnot\u001b[39;00m (\u001b[39mself\u001b[39m\u001b[39m.\u001b[39m_backward_hooks \u001b[39mor\u001b[39;00m \u001b[39mself\u001b[39m\u001b[39m.\u001b[39m_backward_pre_hooks \u001b[39mor\u001b[39;00m \u001b[39mself\u001b[39m\u001b[39m.\u001b[39m_forward_hooks \u001b[39mor\u001b[39;00m \u001b[39mself\u001b[39m\u001b[39m.\u001b[39m_forward_pre_hooks\n\u001b[1;32m   1499\u001b[0m         \u001b[39mor\u001b[39;00m _global_backward_pre_hooks \u001b[39mor\u001b[39;00m _global_backward_hooks\n\u001b[1;32m   1500\u001b[0m         \u001b[39mor\u001b[39;00m _global_forward_hooks \u001b[39mor\u001b[39;00m _global_forward_pre_hooks):\n\u001b[0;32m-> 1501\u001b[0m     \u001b[39mreturn\u001b[39;00m forward_call(\u001b[39m*\u001b[39;49margs, \u001b[39m*\u001b[39;49m\u001b[39m*\u001b[39;49mkwargs)\n\u001b[1;32m   1502\u001b[0m \u001b[39m# Do not call functions when jit is used\u001b[39;00m\n\u001b[1;32m   1503\u001b[0m full_backward_hooks, non_full_backward_hooks \u001b[39m=\u001b[39m [], []\n",
      "\u001b[1;32m/home/guibitten/Documents/neural_networks/Layers/global_attention.ipynb Cell 4\u001b[0m in \u001b[0;36mGlobalAttention.forward\u001b[0;34m(self, inputs)\u001b[0m\n\u001b[1;32m      <a href='vscode-notebook-cell:/home/guibitten/Documents/neural_networks/Layers/global_attention.ipynb#W4sZmlsZQ%3D%3D?line=7'>8</a>\u001b[0m \u001b[39mdef\u001b[39;00m \u001b[39mforward\u001b[39m(\u001b[39mself\u001b[39m, inputs):\n\u001b[1;32m      <a href='vscode-notebook-cell:/home/guibitten/Documents/neural_networks/Layers/global_attention.ipynb#W4sZmlsZQ%3D%3D?line=8'>9</a>\u001b[0m     batch_size, seq_len \u001b[39m=\u001b[39m inputs\u001b[39m.\u001b[39msize()\n\u001b[0;32m---> <a href='vscode-notebook-cell:/home/guibitten/Documents/neural_networks/Layers/global_attention.ipynb#W4sZmlsZQ%3D%3D?line=9'>10</a>\u001b[0m     attn_scores \u001b[39m=\u001b[39m \u001b[39mself\u001b[39;49m\u001b[39m.\u001b[39;49mattention_weights(inputs)\n\u001b[1;32m     <a href='vscode-notebook-cell:/home/guibitten/Documents/neural_networks/Layers/global_attention.ipynb#W4sZmlsZQ%3D%3D?line=10'>11</a>\u001b[0m     attn_scores \u001b[39m=\u001b[39m attn_scores\u001b[39m.\u001b[39mview(batch_size, seq_len)\n\u001b[1;32m     <a href='vscode-notebook-cell:/home/guibitten/Documents/neural_networks/Layers/global_attention.ipynb#W4sZmlsZQ%3D%3D?line=11'>12</a>\u001b[0m     attn_weights \u001b[39m=\u001b[39m F\u001b[39m.\u001b[39msoftmax(attn_scores, dim\u001b[39m=\u001b[39m\u001b[39m1\u001b[39m)\n",
      "File \u001b[0;32m~/.local/lib/python3.10/site-packages/torch/nn/modules/module.py:1501\u001b[0m, in \u001b[0;36mModule._call_impl\u001b[0;34m(self, *args, **kwargs)\u001b[0m\n\u001b[1;32m   1496\u001b[0m \u001b[39m# If we don't have any hooks, we want to skip the rest of the logic in\u001b[39;00m\n\u001b[1;32m   1497\u001b[0m \u001b[39m# this function, and just call forward.\u001b[39;00m\n\u001b[1;32m   1498\u001b[0m \u001b[39mif\u001b[39;00m \u001b[39mnot\u001b[39;00m (\u001b[39mself\u001b[39m\u001b[39m.\u001b[39m_backward_hooks \u001b[39mor\u001b[39;00m \u001b[39mself\u001b[39m\u001b[39m.\u001b[39m_backward_pre_hooks \u001b[39mor\u001b[39;00m \u001b[39mself\u001b[39m\u001b[39m.\u001b[39m_forward_hooks \u001b[39mor\u001b[39;00m \u001b[39mself\u001b[39m\u001b[39m.\u001b[39m_forward_pre_hooks\n\u001b[1;32m   1499\u001b[0m         \u001b[39mor\u001b[39;00m _global_backward_pre_hooks \u001b[39mor\u001b[39;00m _global_backward_hooks\n\u001b[1;32m   1500\u001b[0m         \u001b[39mor\u001b[39;00m _global_forward_hooks \u001b[39mor\u001b[39;00m _global_forward_pre_hooks):\n\u001b[0;32m-> 1501\u001b[0m     \u001b[39mreturn\u001b[39;00m forward_call(\u001b[39m*\u001b[39;49margs, \u001b[39m*\u001b[39;49m\u001b[39m*\u001b[39;49mkwargs)\n\u001b[1;32m   1502\u001b[0m \u001b[39m# Do not call functions when jit is used\u001b[39;00m\n\u001b[1;32m   1503\u001b[0m full_backward_hooks, non_full_backward_hooks \u001b[39m=\u001b[39m [], []\n",
      "File \u001b[0;32m~/.local/lib/python3.10/site-packages/torch/nn/modules/linear.py:114\u001b[0m, in \u001b[0;36mLinear.forward\u001b[0;34m(self, input)\u001b[0m\n\u001b[1;32m    113\u001b[0m \u001b[39mdef\u001b[39;00m \u001b[39mforward\u001b[39m(\u001b[39mself\u001b[39m, \u001b[39minput\u001b[39m: Tensor) \u001b[39m-\u001b[39m\u001b[39m>\u001b[39m Tensor:\n\u001b[0;32m--> 114\u001b[0m     \u001b[39mreturn\u001b[39;00m F\u001b[39m.\u001b[39;49mlinear(\u001b[39minput\u001b[39;49m, \u001b[39mself\u001b[39;49m\u001b[39m.\u001b[39;49mweight, \u001b[39mself\u001b[39;49m\u001b[39m.\u001b[39;49mbias)\n",
      "\u001b[0;31mRuntimeError\u001b[0m: mat1 and mat2 shapes cannot be multiplied (1x6 and 100x1)"
     ]
    }
   ],
   "source": [
    "attn_layer = GlobalAttention(input_dim=100)\n",
    "sentence = \"This is a positive sentence.\"\n",
    "vectorized_input = prepare_input(sentence)\n",
    "weighted_inputs, attn_weights = attn_layer(vectorized_input)"
   ]
  }
 ],
 "metadata": {
  "kernelspec": {
   "display_name": "Python 3",
   "language": "python",
   "name": "python3"
  },
  "language_info": {
   "codemirror_mode": {
    "name": "ipython",
    "version": 3
   },
   "file_extension": ".py",
   "mimetype": "text/x-python",
   "name": "python",
   "nbconvert_exporter": "python",
   "pygments_lexer": "ipython3",
   "version": "3.10.6"
  },
  "orig_nbformat": 4
 },
 "nbformat": 4,
 "nbformat_minor": 2
}
