{
 "cells": [
  {
   "cell_type": "code",
   "execution_count": 2,
   "metadata": {},
   "outputs": [],
   "source": [
    "import pandas as pd\n",
    "import numpy as np"
   ]
  },
  {
   "cell_type": "code",
   "execution_count": 29,
   "metadata": {},
   "outputs": [],
   "source": [
    "class Neuron():\n",
    "    def __init__(self, w_size, bias):\n",
    "        \n",
    "        self.weights = np.random.random(w_size)\n",
    "        \n",
    "        self.bias = bias\n",
    "        \n",
    "        \n",
    "    def _calculate(self, input):\n",
    "        output = input * self.weights\n",
    "        output = output - self.bias\n",
    "        output = output.sum()\n",
    "        return output"
   ]
  },
  {
   "cell_type": "code",
   "execution_count": 30,
   "metadata": {},
   "outputs": [],
   "source": [
    "def bipolar_step(input):\n",
    "    output = 1 if input >= 0 else -1\n",
    "    return output"
   ]
  },
  {
   "cell_type": "code",
   "execution_count": 31,
   "metadata": {},
   "outputs": [],
   "source": [
    "class Perceptron():\n",
    "    def __init__(self, l_rate):\n",
    "        self.dot = Neuron(3, -1)\n",
    "        self.l_rate = l_rate\n",
    "        \n",
    "        \n",
    "    def forward(self, input):\n",
    "        self.input = input\n",
    "        self.output = self.dot._calculate(self.input)\n",
    "        self.output = bipolar_step(self.output)\n",
    "        \n",
    "    \n",
    "    def grad(self, true):\n",
    "        self.dot.weights = self.dot.weights + (((self.l_rate) * (true - self.output)) * self.input)\n",
    "        self.dot.bias = self.dot.bias + (((self.l_rate) * (true - self.output)) * (-1))\n",
    "        \n",
    "    def predict(self, data):\n",
    "        self.forward(data)\n",
    "        return self.output"
   ]
  },
  {
   "cell_type": "code",
   "execution_count": 32,
   "metadata": {},
   "outputs": [],
   "source": [
    "def train(model, data, epochs):\n",
    "    seed = np.random.randint(1000000)\n",
    "    np.random.seed(seed)\n",
    "    \n",
    "    for i in range(epochs):\n",
    "        print(f\"Epoca {i}: Pesos Iniciais - {model.dot.weights}\")\n",
    "        \n",
    "        for row in data:\n",
    "            target = row[0]\n",
    "            inputs = row[1:]\n",
    "            model.forward(inputs)\n",
    "            model.grad(target)\n",
    "            \n",
    "        print(f\"Epoca {i}: Pesos Finais - {model.dot.weights}\")"
   ]
  },
  {
   "cell_type": "code",
   "execution_count": 33,
   "metadata": {},
   "outputs": [],
   "source": [
    "model = Perceptron(l_rate=0.2)"
   ]
  },
  {
   "cell_type": "code",
   "execution_count": 34,
   "metadata": {},
   "outputs": [],
   "source": [
    "data = np.array(\n",
    "    [\n",
    "        [-1.0, -0.6508, 0.1097, 4.0009],\n",
    "[-1.0, -1.4492, 0.8896, 4.4005],\n",
    "[-1.0, 2.085, 0.6876, 12.071],\n",
    "[-1.0, 0.2626, 1.1476, 7.7985],\n",
    "[-1.0, 0.6418, 1.0234, 7.0427],\n",
    "[-1.0, 0.2569, 0.673, 8.3265],\n",
    "[-1.0, 1.1155, 0.6043, 7.4446],\n",
    "[-1.0, 0.0914, 0.3399, 7.0677],\n",
    "[-1.0, 0.0121, 0.5256, 4.6316],\n",
    "[-1.0, -0.0429, 0.466, 5.4323],\n",
    "[-1.0, 0.434, 0.687, 8.2287],\n",
    "[-1.0, 0.2735, 1.0287, 7.1934],\n",
    "[-1.0, 0.4839, 0.4851, 7.485],\n",
    "[-1.0, 0.4089, -0.1267, 5.5019],\n",
    "[-1.0, 1.4391, 0.1614, 8.5843],\n",
    "[-1.0, -0.9115, -0.1973, 2.1962],[-1.0, 0.3654, 1.0475, 7.4858],[-1.0, 0.2144, 0.7515, 7.1699],[-1.0, 0.2013, 1.0014, 6.5489],[-1.0, 0.6483, 0.2183, 5.8991],[-1.0, -0.1147, 0.2242, 7.2435],[-1.0, -0.797, 0.8795, 3.8762],[-1.0, -1.0625, 0.6366, 2.4707],[-1.0, 0.5307, 0.1285, 5.6883],[-1.0, -1.22, 0.7777, 1.7252]]\n",
    ")\n",
    "\n",
    "val = np.array(\n",
    "    [\n",
    "        [-1.0, 0.3957, 0.1076, 5.6623],\n",
    "        [-1.0, -0.1013, 0.5989, 7.1812],\n",
    "        [-1.0, 2.4482, 0.9455, 11.2095],\n",
    "        [-1.0, 2.0149, 0.6192, 10.9263],\n",
    "        [-1.0, 0.2012, 0.2611, 5.4631]\n",
    "    ]\n",
    ")"
   ]
  },
  {
   "cell_type": "code",
   "execution_count": 35,
   "metadata": {},
   "outputs": [
    {
     "name": "stdout",
     "output_type": "stream",
     "text": [
      "Epoca 0: Pesos Iniciais - [0.46685181 0.92537011 0.91659046]\n",
      "Epoca 0: Pesos Finais - [ 1.21517181  0.57041011 -1.37384954]\n",
      "Epoca 1: Pesos Iniciais - [ 1.21517181  0.57041011 -1.37384954]\n",
      "Epoca 1: Pesos Finais - [ 1.21517181  0.57041011 -1.37384954]\n",
      "Epoca 2: Pesos Iniciais - [ 1.21517181  0.57041011 -1.37384954]\n",
      "Epoca 2: Pesos Finais - [ 1.21517181  0.57041011 -1.37384954]\n",
      "Epoca 3: Pesos Iniciais - [ 1.21517181  0.57041011 -1.37384954]\n",
      "Epoca 3: Pesos Finais - [ 1.21517181  0.57041011 -1.37384954]\n",
      "Epoca 4: Pesos Iniciais - [ 1.21517181  0.57041011 -1.37384954]\n",
      "Epoca 4: Pesos Finais - [ 1.21517181  0.57041011 -1.37384954]\n"
     ]
    }
   ],
   "source": [
    "train(model, data, 5)"
   ]
  },
  {
   "cell_type": "code",
   "execution_count": 37,
   "metadata": {},
   "outputs": [
    {
     "name": "stdout",
     "output_type": "stream",
     "text": [
      "1.0\n"
     ]
    }
   ],
   "source": [
    "test = np.array([-0.3665, 0.0620, 5.9891])\n",
    "\n",
    "model.predict(test)\n",
    "accuracy = 0.0\n",
    "\n",
    "for batch in val:\n",
    "    output = model.predict(batch[1:])\n",
    "    if output == batch[0]:\n",
    "        accuracy += 1\n",
    "        \n",
    "accuracy /= len(val)\n",
    "print(accuracy)"
   ]
  },
  {
   "cell_type": "code",
   "execution_count": 7,
   "metadata": {},
   "outputs": [
    {
     "data": {
      "text/plain": [
       "array([0, 1, 2, 3])"
      ]
     },
     "execution_count": 7,
     "metadata": {},
     "output_type": "execute_result"
    }
   ],
   "source": [
    "df = pd.DataFrame({\n",
    "    \"teste\":[0,1,2,3]\n",
    "})\n",
    "\n",
    "df.index.values"
   ]
  }
 ],
 "metadata": {
  "kernelspec": {
   "display_name": ".venv",
   "language": "python",
   "name": "python3"
  },
  "language_info": {
   "codemirror_mode": {
    "name": "ipython",
    "version": 3
   },
   "file_extension": ".py",
   "mimetype": "text/x-python",
   "name": "python",
   "nbconvert_exporter": "python",
   "pygments_lexer": "ipython3",
   "version": "3.10.6"
  },
  "orig_nbformat": 4
 },
 "nbformat": 4,
 "nbformat_minor": 2
}
