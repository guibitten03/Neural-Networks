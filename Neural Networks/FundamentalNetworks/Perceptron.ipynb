{
 "cells": [
  {
   "cell_type": "code",
   "execution_count": 8,
   "metadata": {},
   "outputs": [],
   "source": [
    "import pandas as pd\n",
    "import numpy as np\n",
    "\n",
    "from Components.Neuron import Neuron\n",
    "from Components.ActivateFunctions import bipolar_step"
   ]
  },
  {
   "cell_type": "code",
   "execution_count": 9,
   "metadata": {},
   "outputs": [],
   "source": [
    "class Perceptron():\n",
    "    def __init__(self, l_rate):\n",
    "        self.dot = Neuron(3, -1)\n",
    "        self.l_rate = l_rate\n",
    "        \n",
    "        \n",
    "    def forward(self, input):\n",
    "        self.input = input\n",
    "        self.output = self.dot._calculate(self.input)\n",
    "        self.output = bipolar_step(self.output)\n",
    "        \n",
    "    \n",
    "    def grad(self, true):\n",
    "        self.dot.weights[1:] = self.dot.weights[1:] + (((self.l_rate) * (true - self.output)) * self.input)\n",
    "        self.dot.weights[0] = self.dot.weights[0] + (((self.l_rate) * (true - self.output)) * (-1))\n",
    "        \n",
    "    def predict(self, data):\n",
    "        self.forward(data)\n",
    "        return self.output"
   ]
  },
  {
   "cell_type": "code",
   "execution_count": 10,
   "metadata": {},
   "outputs": [],
   "source": [
    "def train(model, data, epochs):\n",
    "    seed = np.random.randint(1000000)\n",
    "    np.random.seed(seed)\n",
    "    \n",
    "    for i in range(epochs):\n",
    "        print(f\"Epoca {i}: Pesos Iniciais - {model.dot.weights}\")\n",
    "        \n",
    "        for row in data:\n",
    "            target = row[0]\n",
    "            inputs = row[1:]\n",
    "            model.forward(inputs)\n",
    "            model.grad(target)\n",
    "            \n",
    "        print(f\"Epoca {i}: Pesos Finais - {model.dot.weights}\")"
   ]
  },
  {
   "cell_type": "code",
   "execution_count": 11,
   "metadata": {},
   "outputs": [],
   "source": [
    "model = Perceptron(l_rate=0.01)"
   ]
  },
  {
   "cell_type": "code",
   "execution_count": 12,
   "metadata": {},
   "outputs": [],
   "source": [
    "data = np.array(\n",
    "    [\n",
    "        [-1.0, -0.6508, 0.1097, 4.0009],\n",
    "        [-1.0, -1.4492, 0.8896, 4.4005],\n",
    "        [-1.0, 2.085, 0.6876, 12.071],\n",
    "        [1.0, 0.2626, 1.1476, 7.7985],\n",
    "        [1.0, 0.6418, 1.0234, 7.0427],\n",
    "        [-1.0, 0.2569, 0.673, 8.3265],\n",
    "        [1.0, 1.1155, 0.6043, 7.4446],\n",
    "        [-1.0, 0.0914, 0.3399, 7.0677],\n",
    "        [1.0, 0.0121, 0.5256, 4.6316],\n",
    "        [1.0, -0.0429, 0.466, 5.4323],\n",
    "        [-1.0, 0.434, 0.687, 8.2287],\n",
    "        [1.0, 0.2735, 1.0287, 7.1934],\n",
    "        [-1.0, 0.4839, 0.4851, 7.485],\n",
    "        [-1.0, 0.4089, -0.1267, 5.5019],\n",
    "        [-1.0, 1.4391, 0.1614, 8.5843],\n",
    "        [-1.0, -0.9115, -0.1973, 2.1962],\n",
    "        [1.0, 0.3654, 1.0475, 7.4858],\n",
    "        [1.0, 0.2144, 0.7515, 7.1699],\n",
    "        [1.0, 0.2013, 1.0014, 6.5489],\n",
    "        [1.0, 0.6483, 0.2183, 5.8991],\n",
    "        [-1.0, -0.1147, 0.2242, 7.2435],\n",
    "        [1.0, -0.797, 0.8795, 3.8762],\n",
    "        [1.0, -1.0625, 0.6366, 2.4707],\n",
    "        [1.0, 0.5307, 0.1285, 5.6883],\n",
    "        [1.0, -1.22, 0.7777, 1.7252],\n",
    "        [-1.0, 0.3957, 0.1076, 5.6623],\n",
    "        [-1.0, -0.1013, 0.5989, 7.1812],\n",
    "        [1.0, 2.4482, 0.9455, 11.2095],\n",
    "        [-1.0, 2.0149, 0.6192, 10.9263],\n",
    "        [1.0, 0.2012, 0.2611, 5.4631]\n",
    "    ]\n",
    ")\n",
    "\n",
    "train_size = int(len(data) * 0.8)\n",
    "train_data = data[:train_size]\n",
    "val_data = data[train_size:]"
   ]
  },
  {
   "cell_type": "code",
   "execution_count": 13,
   "metadata": {},
   "outputs": [
    {
     "name": "stdout",
     "output_type": "stream",
     "text": [
      "Epoca 0: Pesos Iniciais - [-1.          0.72314999  0.06186671  0.14134067]\n",
      "Epoca 0: Pesos Finais - [-0.9         0.74282199  0.07311271 -0.44450733]\n",
      "Epoca 1: Pesos Iniciais - [-0.9         0.74282199  0.07311271 -0.44450733]\n",
      "Epoca 1: Pesos Finais - [-0.88        0.78562199  0.13172871 -0.44496333]\n",
      "Epoca 2: Pesos Iniciais - [-0.88        0.78562199  0.13172871 -0.44496333]\n",
      "Epoca 2: Pesos Finais - [-0.86        0.82842199  0.19034471 -0.44541933]\n",
      "Epoca 3: Pesos Iniciais - [-0.86        0.82842199  0.19034471 -0.44541933]\n",
      "Epoca 3: Pesos Finais - [-0.84        0.87122199  0.24896071 -0.44587533]\n",
      "Epoca 4: Pesos Iniciais - [-0.84        0.87122199  0.24896071 -0.44587533]\n",
      "Epoca 4: Pesos Finais - [-0.82        0.91402199  0.30757671 -0.44633133]\n"
     ]
    }
   ],
   "source": [
    "train(model, data, 5)"
   ]
  },
  {
   "cell_type": "code",
   "execution_count": 14,
   "metadata": {},
   "outputs": [
    {
     "name": "stdout",
     "output_type": "stream",
     "text": [
      "0.6666666666666666\n"
     ]
    }
   ],
   "source": [
    "accuracy = 0.0\n",
    "\n",
    "for batch in val_data:\n",
    "    output = model.predict(batch[1:])\n",
    "    if output == batch[0]:\n",
    "        accuracy += 1\n",
    "        \n",
    "accuracy /= len(val_data)\n",
    "print(accuracy)"
   ]
  }
 ],
 "metadata": {
  "kernelspec": {
   "display_name": ".venv",
   "language": "python",
   "name": "python3"
  },
  "language_info": {
   "codemirror_mode": {
    "name": "ipython",
    "version": 3
   },
   "file_extension": ".py",
   "mimetype": "text/x-python",
   "name": "python",
   "nbconvert_exporter": "python",
   "pygments_lexer": "ipython3",
   "version": "3.10.6"
  },
  "orig_nbformat": 4
 },
 "nbformat": 4,
 "nbformat_minor": 2
}
