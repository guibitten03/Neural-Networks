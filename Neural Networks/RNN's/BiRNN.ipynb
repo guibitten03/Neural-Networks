{
 "cells": [
  {
   "cell_type": "code",
   "execution_count": 1,
   "metadata": {},
   "outputs": [],
   "source": [
    "import torch\n",
    "import torch.nn as nn"
   ]
  },
  {
   "cell_type": "code",
   "execution_count": null,
   "metadata": {},
   "outputs": [],
   "source": [
    "class BiRNN(nn.Module):\n",
    "    def __init__(self, input_size, hidden_size, num_layers, output_size):\n",
    "        super(BiRNN, self).__init__()\n",
    "        self.hidden_size = hidden_size\n",
    "        self.num_layers = num_layers\n",
    "        self.rnn_forward = nn.GRU(input_size, hidden_size, num_layers, batch_first=True, bidirectional=False)\n",
    "        self.rnn_backward = nn.GRU(input_size, hidden_size, num_layers, batch_first=True, bidirectional=False)\n",
    "        self.fc = nn.Linear(hidden_size * 2, output_size)\n",
    "    \n",
    "    def forward(self, x):\n",
    "        # Set initial hidden and cell states\n",
    "        h_forward = torch.zeros(self.num_layers * 1, x.size(0), self.hidden_size).to(x.device)\n",
    "        h_backward = torch.zeros(self.num_layers * 1, x.size(0), self.hidden_size).to(x.device)\n",
    "        \n",
    "        # Forward propagate LSTM\n",
    "        out_forward, h_forward = self.rnn_forward(x, h_forward)\n",
    "        \n",
    "        # Backward propagate LSTM\n",
    "        x_backward = torch.flip(x, [1])\n",
    "        out_backward, h_backward = self.rnn_backward(x_backward, h_backward)\n",
    "        out_backward = torch.flip(out_backward, [1])\n",
    "        \n",
    "        # Concatenate forward and backward outputs\n",
    "        out = torch.cat((out_forward, out_backward), dim=2)\n",
    "        \n",
    "        # Pass output through fully connected layer\n",
    "        out = self.fc(out)\n",
    "        \n",
    "        return out"
   ]
  }
 ],
 "metadata": {
  "kernelspec": {
   "display_name": ".venv",
   "language": "python",
   "name": "python3"
  },
  "language_info": {
   "codemirror_mode": {
    "name": "ipython",
    "version": 3
   },
   "file_extension": ".py",
   "mimetype": "text/x-python",
   "name": "python",
   "nbconvert_exporter": "python",
   "pygments_lexer": "ipython3",
   "version": "3.10.6"
  },
  "orig_nbformat": 4
 },
 "nbformat": 4,
 "nbformat_minor": 2
}
