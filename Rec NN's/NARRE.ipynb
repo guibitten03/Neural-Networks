{
 "cells": [
  {
   "cell_type": "code",
   "execution_count": 1,
   "metadata": {},
   "outputs": [],
   "source": [
    "import torch\n",
    "import torch.nn as nn\n",
    "\n",
    "class NARRE(nn.Module):\n",
    "    def __init__(self, num_users, num_items, embedding_dim, hidden_dim, num_layers, word_embedding, kernel_sizes, num_filters, dropout_prob):\n",
    "        super(NARRE, self).__init__()\n",
    "        self.embedding_dim = embedding_dim\n",
    "        self.hidden_dim = hidden_dim\n",
    "        self.num_layers = num_layers\n",
    "        self.word_embedding = nn.Embedding.from_pretrained(torch.FloatTensor(word_embedding))\n",
    "        self.user_embedding = nn.Embedding(num_users, embedding_dim)\n",
    "        self.item_embedding = nn.Embedding(num_items, embedding_dim)\n",
    "        self.review_encoder = nn.GRU(embedding_dim, hidden_dim, num_layers, bidirectional=True, batch_first=True, dropout=dropout_prob)\n",
    "        self.convolution = nn.ModuleList([nn.Conv2d(1, num_filters, (k, hidden_dim * 2), padding=(k-1, 0)) for k in kernel_sizes])\n",
    "        self.attention = nn.Linear(num_filters * len(kernel_sizes), embedding_dim)\n",
    "        self.output_layer = nn.Linear(embedding_dim, 1)\n",
    "\n",
    "    def forward(self, user_ids, item_ids, reviews):\n",
    "        user_embedded = self.user_embedding(user_ids)\n",
    "        item_embedded = self.item_embedding(item_ids)\n",
    "        review_embedded = self.word_embedding(reviews)\n",
    "        review_encoded, _ = self.review_encoder(review_embedded)\n",
    "        review_encoded = torch.transpose(review_encoded, 1, 2)\n",
    "        review_convolved = [torch.relu(conv(review_encoded.unsqueeze(1))).squeeze(3) for conv in self.convolution]\n",
    "        review_pooled = [torch.max_pool1d(conv, conv.size(2)).squeeze(2) for conv in review_convolved]\n",
    "        review_representations = torch.cat(review_pooled, 1)\n",
    "        review_attention = torch.softmax(self.attention(review_representations), dim=1)\n",
    "        weighted_reviews = torch.mul(review_representations, review_attention.unsqueeze(2)).sum(dim=1)\n",
    "        concatenated = torch.cat((user_embedded, item_embedded, weighted_reviews), dim=1)\n",
    "        predicted_rating = self.output_layer(concatenated)\n",
    "        return predicted_rating\n"
   ]
  },
  {
   "cell_type": "code",
   "execution_count": 2,
   "metadata": {},
   "outputs": [],
   "source": [
    "# Importe as bibliotecas necessárias\n",
    "import torch.optim as optim\n",
    "from torch.utils.data import DataLoader\n",
    "from torch.utils.data import Dataset"
   ]
  },
  {
   "cell_type": "code",
   "execution_count": 3,
   "metadata": {},
   "outputs": [],
   "source": [
    "# Defina a classe do conjunto de dados\n",
    "class AmazonDataset(Dataset):\n",
    "    def __init__(self, data_file):\n",
    "        # Implemente a lógica de carregamento dos dados\n",
    "        ...\n",
    "\n",
    "    def __len__(self):\n",
    "        # Implemente a lógica de retorno do tamanho do conjunto de dados\n",
    "        ...\n",
    "\n",
    "    def __getitem__(self, idx):\n",
    "        # Implemente a lógica de retorno de um exemplo do conjunto de dados\n",
    "        ..."
   ]
  },
  {
   "cell_type": "code",
   "execution_count": 4,
   "metadata": {},
   "outputs": [
    {
     "ename": "NameError",
     "evalue": "name 'train_file' is not defined",
     "output_type": "error",
     "traceback": [
      "\u001b[0;31m---------------------------------------------------------------------------\u001b[0m",
      "\u001b[0;31mNameError\u001b[0m                                 Traceback (most recent call last)",
      "Cell \u001b[0;32mIn[4], line 12\u001b[0m\n\u001b[1;32m      9\u001b[0m num_epochs \u001b[39m=\u001b[39m \u001b[39m.\u001b[39m\u001b[39m.\u001b[39m\u001b[39m.\u001b[39m\n\u001b[1;32m     11\u001b[0m \u001b[39m# Carregue o conjunto de dados\u001b[39;00m\n\u001b[0;32m---> 12\u001b[0m train_dataset \u001b[39m=\u001b[39m AmazonDataset(train_file)\n\u001b[1;32m     13\u001b[0m val_dataset \u001b[39m=\u001b[39m AmazonDataset(val_file)\n\u001b[1;32m     14\u001b[0m test_dataset \u001b[39m=\u001b[39m AmazonDataset(test_file)\n",
      "\u001b[0;31mNameError\u001b[0m: name 'train_file' is not defined"
     ]
    }
   ],
   "source": [
    "# Defina as configurações de hiperparâmetros do modelo\n",
    "vocab_size = ...\n",
    "embedding_dim = ...\n",
    "hidden_dim = ...\n",
    "num_layers = ...\n",
    "num_classes = ...\n",
    "batch_size = ...\n",
    "learning_rate = ...\n",
    "num_epochs = ...\n",
    "\n",
    "# Carregue o conjunto de dados\n",
    "train_dataset = AmazonDataset(train_file)\n",
    "val_dataset = AmazonDataset(val_file)\n",
    "test_dataset = AmazonDataset(test_file)"
   ]
  },
  {
   "cell_type": "code",
   "execution_count": null,
   "metadata": {},
   "outputs": [],
   "source": [
    "# Crie os dataloaders\n",
    "train_loader = DataLoader(train_dataset, batch_size=batch_size, shuffle=True)\n",
    "val_loader = DataLoader(val_dataset, batch_size=batch_size, shuffle=False)\n",
    "test_loader = DataLoader(test_dataset, batch_size=batch_size, shuffle=False)\n",
    "\n",
    "# Instancie o modelo NARRE\n",
    "model = NARRE(vocab_size, embedding_dim, hidden_dim, num_layers, num_classes)\n",
    "\n",
    "# Defina o otimizador e a função de perda\n",
    "optimizer = optim.Adam(model.parameters(), lr=learning_rate)\n",
    "criterion = nn.MSELoss()\n",
    "\n",
    "# Treine o modelo\n",
    "for epoch in range(num_epochs):\n",
    "    for i, (inputs, labels) in enumerate(train_loader):\n",
    "        # Implemente a lógica de treinamento do modelo\n",
    "        ...\n",
    "\n",
    "# Avalie o modelo\n",
    "with torch.no_grad():\n",
    "    for inputs, labels in test_loader:\n",
    "        # Implemente a lógica de avaliação do modelo"
   ]
  }
 ],
 "metadata": {
  "kernelspec": {
   "display_name": ".venv",
   "language": "python",
   "name": "python3"
  },
  "language_info": {
   "codemirror_mode": {
    "name": "ipython",
    "version": 3
   },
   "file_extension": ".py",
   "mimetype": "text/x-python",
   "name": "python",
   "nbconvert_exporter": "python",
   "pygments_lexer": "ipython3",
   "version": "3.10.6"
  },
  "orig_nbformat": 4
 },
 "nbformat": 4,
 "nbformat_minor": 2
}
