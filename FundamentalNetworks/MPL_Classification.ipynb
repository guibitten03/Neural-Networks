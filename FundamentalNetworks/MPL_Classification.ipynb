{
 "cells": [
  {
   "cell_type": "code",
   "execution_count": 256,
   "metadata": {},
   "outputs": [],
   "source": [
    "import numpy as np\n",
    "import math\n",
    "import pandas as pd"
   ]
  },
  {
   "attachments": {},
   "cell_type": "markdown",
   "metadata": {},
   "source": [
    "### Standart MLP"
   ]
  },
  {
   "cell_type": "code",
   "execution_count": 257,
   "metadata": {},
   "outputs": [],
   "source": [
    "def mean_squared_error(y_true, y_pred):\n",
    "    return (np.square(y_true - y_pred)).mean(axis=None)"
   ]
  },
  {
   "cell_type": "code",
   "execution_count": 258,
   "metadata": {},
   "outputs": [],
   "source": [
    "# Pesos inicializados com distribuição gaussiana de media 0 e variança 1\n",
    "class MLP():\n",
    "    def __init__(self, in_Length, hid_Length, out_Length, l_rate=0.002):\n",
    "\n",
    "        self.W_in, self.B_in = self.initialize_weights(in_Length, hid_Length)\n",
    "        self.W_out, self.B_out = self.initialize_weights(hid_Length, out_Length)\n",
    "\n",
    "        self.l_rate = l_rate\n",
    "\n",
    "        \n",
    "    def initialize_weights(self, in_Length, hid_Length):\n",
    "        w = np.random.random((hid_Length, in_Length))\n",
    "        b = np.full((hid_Length), -1)\n",
    "\n",
    "        return w, b\n",
    "\n",
    "    def tanhFunc(self, x, deriv=False):\n",
    "        if deriv:\n",
    "            return 1 - np.power(np.tanh(x), 2)\n",
    "        return  np.tanh(x)\n",
    "    \n",
    "    def sigmoidFunc(self, x, deriv=False):\n",
    "        if deriv:\n",
    "            sigmoid = self.sigmoidFunc(x)\n",
    "            return sigmoid * (1 - sigmoid)\n",
    "        return 1 / (1 + np.exp(-x))\n",
    "\n",
    "\n",
    "    def forward(self, x):\n",
    "        # O bias é adicionado após a ponderação e o dot product do vetor\n",
    "        # self.out_hidden = np.dot(x.T, self.W_in) - self.B_in\n",
    "        self.out_hidden = np.dot(self.W_in, x) + self.B_in\n",
    "        self.out_hidden_activate = self.sigmoidFunc(self.out_hidden, deriv=False)\n",
    "\n",
    "        self.output = np.dot(self.W_out, self.out_hidden_activate) + self.B_out\n",
    "        y = self.sigmoidFunc(self.output, deriv=False)\n",
    "\n",
    "        return y \n",
    "    \n",
    "    def backward(self, target, x):\n",
    "\n",
    "        # Gradient applied in last layer\n",
    "        y = self.forward(x)\n",
    "        \n",
    "        Eout = y - target\n",
    "        Ehin = self.sigmoidFunc(self.out_hidden, deriv=True) * np.dot(self.W_out, Eout)\n",
    "        \n",
    "        self.W_out = np.outer(self.out_hidden_activate, Eout)\n",
    "        self.W_in = np.outer(x, Ehin)\n",
    "        \n",
    "        return y"
   ]
  },
  {
   "cell_type": "code",
   "execution_count": 259,
   "metadata": {},
   "outputs": [],
   "source": [
    "mlp = MLP(3, 10, 1, 0.1)"
   ]
  },
  {
   "cell_type": "code",
   "execution_count": 260,
   "metadata": {},
   "outputs": [],
   "source": [
    "train_data = pd.read_csv(\"../datasets/Apendice_3/train.csv\")\n",
    "test_data = pd.read_csv(\"../datasets/Apendice_3/test.csv\")"
   ]
  },
  {
   "cell_type": "code",
   "execution_count": 261,
   "metadata": {},
   "outputs": [
    {
     "ename": "ValueError",
     "evalue": "shapes (1,10) and (1,) not aligned: 10 (dim 1) != 1 (dim 0)",
     "output_type": "error",
     "traceback": [
      "\u001b[0;31m---------------------------------------------------------------------------\u001b[0m",
      "\u001b[0;31mValueError\u001b[0m                                Traceback (most recent call last)",
      "Cell \u001b[0;32mIn[261], line 28\u001b[0m\n\u001b[1;32m     24\u001b[0m         error_list\u001b[39m.\u001b[39mappend(np\u001b[39m.\u001b[39mmean(np\u001b[39m.\u001b[39marray(preds)))\n\u001b[1;32m     26\u001b[0m     \u001b[39mreturn\u001b[39;00m error_list\n\u001b[0;32m---> 28\u001b[0m error \u001b[39m=\u001b[39m train(mlp, train_data, \u001b[39m10\u001b[39;49m, \u001b[39m0.00001\u001b[39;49m)\n",
      "Cell \u001b[0;32mIn[261], line 15\u001b[0m, in \u001b[0;36mtrain\u001b[0;34m(model, train_data, n_epochs, error_limit)\u001b[0m\n\u001b[1;32m     12\u001b[0m \u001b[39minput\u001b[39m \u001b[39m=\u001b[39m row[:\u001b[39m-\u001b[39m\u001b[39m1\u001b[39m]\n\u001b[1;32m     13\u001b[0m target \u001b[39m=\u001b[39m row[\u001b[39m-\u001b[39m\u001b[39m1\u001b[39m]\n\u001b[0;32m---> 15\u001b[0m y_pred \u001b[39m=\u001b[39m model\u001b[39m.\u001b[39;49mbackward(target, \u001b[39minput\u001b[39;49m)\n\u001b[1;32m     16\u001b[0m preds\u001b[39m.\u001b[39mappend(mean_squared_error(target, y_pred))\n\u001b[1;32m     18\u001b[0m \u001b[39mif\u001b[39;00m (\u001b[39mlen\u001b[39m(error_list) \u001b[39m!=\u001b[39m \u001b[39m0\u001b[39m):\n",
      "Cell \u001b[0;32mIn[258], line 46\u001b[0m, in \u001b[0;36mMLP.backward\u001b[0;34m(self, target, x)\u001b[0m\n\u001b[1;32m     43\u001b[0m y \u001b[39m=\u001b[39m \u001b[39mself\u001b[39m\u001b[39m.\u001b[39mforward(x)\n\u001b[1;32m     45\u001b[0m Eout \u001b[39m=\u001b[39m y \u001b[39m-\u001b[39m target\n\u001b[0;32m---> 46\u001b[0m Ehin \u001b[39m=\u001b[39m \u001b[39mself\u001b[39m\u001b[39m.\u001b[39msigmoidFunc(\u001b[39mself\u001b[39m\u001b[39m.\u001b[39mout_hidden, deriv\u001b[39m=\u001b[39m\u001b[39mTrue\u001b[39;00m) \u001b[39m*\u001b[39m np\u001b[39m.\u001b[39;49mdot(\u001b[39mself\u001b[39;49m\u001b[39m.\u001b[39;49mW_out, Eout)\n\u001b[1;32m     48\u001b[0m \u001b[39mself\u001b[39m\u001b[39m.\u001b[39mW_out \u001b[39m=\u001b[39m np\u001b[39m.\u001b[39mouter(\u001b[39mself\u001b[39m\u001b[39m.\u001b[39mout_hidden_activate, Eout)\n\u001b[1;32m     49\u001b[0m \u001b[39mself\u001b[39m\u001b[39m.\u001b[39mW_in \u001b[39m=\u001b[39m np\u001b[39m.\u001b[39mouter(x, Ehin)\n",
      "File \u001b[0;32m<__array_function__ internals>:200\u001b[0m, in \u001b[0;36mdot\u001b[0;34m(*args, **kwargs)\u001b[0m\n",
      "\u001b[0;31mValueError\u001b[0m: shapes (1,10) and (1,) not aligned: 10 (dim 1) != 1 (dim 0)"
     ]
    }
   ],
   "source": [
    "def train(model, train_data, n_epochs, error_limit):\n",
    "    batch_size = len(train_data) / 10\n",
    "\n",
    "    train_x = train_data.values\n",
    "\n",
    "    batches = np.array_split(train_x, batch_size)\n",
    "\n",
    "    error_list = []\n",
    "    for batch in batches:\n",
    "        preds = []\n",
    "        for row in batch:\n",
    "            input = row[:-1]\n",
    "            target = row[-1]\n",
    "\n",
    "            y_pred = model.backward(target, input)\n",
    "            preds.append(mean_squared_error(target, y_pred))\n",
    "\n",
    "            if (len(error_list) != 0):\n",
    "                error = (np.mean(np.array(preds)) - error_list[-1]) \n",
    "                error = error if error > 0 else (error * (-1))\n",
    "                if  error < error_limit:\n",
    "                    return error_list\n",
    "        \n",
    "        error_list.append(np.mean(np.array(preds)))\n",
    "\n",
    "    return error_list\n",
    "\n",
    "error = train(mlp, train_data, 10, 0.00001)"
   ]
  },
  {
   "cell_type": "code",
   "execution_count": null,
   "metadata": {},
   "outputs": [
    {
     "name": "stdout",
     "output_type": "stream",
     "text": [
      "0.0\n"
     ]
    }
   ],
   "source": [
    "accuracy = 0.0\n",
    "\n",
    "for batch in test_data.values:\n",
    "    output = mlp.forward(batch[:-1])\n",
    "    if output == batch[-1]:\n",
    "        accuracy += 1\n",
    "        \n",
    "accuracy /= len(test_data)\n",
    "print(accuracy)"
   ]
  }
 ],
 "metadata": {
  "kernelspec": {
   "display_name": ".venv",
   "language": "python",
   "name": "python3"
  },
  "language_info": {
   "codemirror_mode": {
    "name": "ipython",
    "version": 3
   },
   "file_extension": ".py",
   "mimetype": "text/x-python",
   "name": "python",
   "nbconvert_exporter": "python",
   "pygments_lexer": "ipython3",
   "version": "3.10.6"
  },
  "orig_nbformat": 4
 },
 "nbformat": 4,
 "nbformat_minor": 2
}
