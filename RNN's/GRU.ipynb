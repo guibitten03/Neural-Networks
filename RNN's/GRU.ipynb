{
 "cells": [
  {
   "cell_type": "code",
   "execution_count": 1,
   "metadata": {},
   "outputs": [],
   "source": [
    "import torch\n",
    "import torch.nn as nn"
   ]
  },
  {
   "cell_type": "code",
   "execution_count": 2,
   "metadata": {},
   "outputs": [],
   "source": [
    "class GRUNet(nn.Module):\n",
    "    def __init__(self, input_size, hidden_size, output_size):\n",
    "        super(GRUNet, self).__init__()\n",
    "        \n",
    "        '''\n",
    "            input_size: tamanho da entrada para a rede neural\n",
    "            hidden_size: tamanho da camada oculta\n",
    "            output_size: tamanho da saída da rede neural\n",
    "        '''\n",
    "        \n",
    "        self.gru = nn.GRU(input_size, hidden_size, batch_first=True)\n",
    "        self.fc = nn.Linear(hidden_size, output_size)\n",
    "\n",
    "    def forward(self, x):\n",
    "        # out[:, -1, :]: pega a saída da última camada da GRU (o último elemento da sequência de entrada) e passa para a camada totalmente conectada\n",
    "        # self.fc(out[:, -1, :]): executa a camada totalmente conectada na entrada\n",
    "        out, _ = self.gru(x)\n",
    "        out = self.fc(out[:, -1, :])\n",
    "        return out"
   ]
  },
  {
   "cell_type": "code",
   "execution_count": 5,
   "metadata": {},
   "outputs": [
    {
     "name": "stdout",
     "output_type": "stream",
     "text": [
      "torch.Size([32, 2])\n"
     ]
    }
   ],
   "source": [
    "model = GRUNet(input_size=10, hidden_size=20, output_size=2)\n",
    "input_data = torch.randn(32, 5, 10)  # 32 sequências com tamanho 5 e dimensão 10\n",
    "output = model(input_data)\n",
    "print(output.shape)  # torch.Size([32, 2])"
   ]
  }
 ],
 "metadata": {
  "kernelspec": {
   "display_name": ".venv",
   "language": "python",
   "name": "python3"
  },
  "language_info": {
   "codemirror_mode": {
    "name": "ipython",
    "version": 3
   },
   "file_extension": ".py",
   "mimetype": "text/x-python",
   "name": "python",
   "nbconvert_exporter": "python",
   "pygments_lexer": "ipython3",
   "version": "3.10.6"
  },
  "orig_nbformat": 4
 },
 "nbformat": 4,
 "nbformat_minor": 2
}
