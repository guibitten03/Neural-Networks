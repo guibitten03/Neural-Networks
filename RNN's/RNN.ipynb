{
 "cells": [
  {
   "cell_type": "code",
   "execution_count": 1,
   "metadata": {},
   "outputs": [],
   "source": [
    "import torch\n",
    "import torch.nn as nn"
   ]
  },
  {
   "cell_type": "code",
   "execution_count": 2,
   "metadata": {},
   "outputs": [],
   "source": [
    "# Definir parâmetros da rede\n",
    "input_size = 10 # tamanho da entrada\n",
    "hidden_size = 20 # tamanho da camada escondida\n",
    "num_layers = 2 # número de camadas\n",
    "batch_size = 1 # tamanho do lote\n",
    "seq_length = 5 # comprimento da sequência"
   ]
  },
  {
   "cell_type": "code",
   "execution_count": 3,
   "metadata": {},
   "outputs": [],
   "source": [
    "# Criar uma sequência de entrada fictícia\n",
    "input_seq = torch.randn(seq_length, batch_size, input_size)"
   ]
  },
  {
   "cell_type": "code",
   "execution_count": 4,
   "metadata": {},
   "outputs": [],
   "source": [
    "# Criar uma instância da camada RNN\n",
    "rnn = nn.RNN(input_size=input_size, hidden_size=hidden_size, num_layers=num_layers)"
   ]
  },
  {
   "cell_type": "code",
   "execution_count": 5,
   "metadata": {},
   "outputs": [],
   "source": [
    "# Executar a sequência de entrada na camada RNN\n",
    "output, hidden = rnn(input_seq)"
   ]
  },
  {
   "cell_type": "code",
   "execution_count": 6,
   "metadata": {},
   "outputs": [
    {
     "name": "stdout",
     "output_type": "stream",
     "text": [
      "Output shape:  torch.Size([5, 1, 20])\n",
      "Hidden shape:  torch.Size([2, 1, 20])\n"
     ]
    }
   ],
   "source": [
    "# Mostrar a saída e o estado oculto resultantes\n",
    "print(\"Output shape: \", output.shape)\n",
    "print(\"Hidden shape: \", hidden.shape)"
   ]
  },
  {
   "cell_type": "code",
   "execution_count": null,
   "metadata": {},
   "outputs": [],
   "source": []
  }
 ],
 "metadata": {
  "kernelspec": {
   "display_name": ".venv",
   "language": "python",
   "name": "python3"
  },
  "language_info": {
   "codemirror_mode": {
    "name": "ipython",
    "version": 3
   },
   "file_extension": ".py",
   "mimetype": "text/x-python",
   "name": "python",
   "nbconvert_exporter": "python",
   "pygments_lexer": "ipython3",
   "version": "3.10.6"
  },
  "orig_nbformat": 4
 },
 "nbformat": 4,
 "nbformat_minor": 2
}
